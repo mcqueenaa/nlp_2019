{
 "cells": [
  {
   "cell_type": "code",
   "execution_count": 1,
   "metadata": {},
   "outputs": [
    {
     "name": "stderr",
     "output_type": "stream",
     "text": [
      "Loading UDPipe model: done.\n"
     ]
    }
   ],
   "source": [
    "!C:\\Users\\Sony\\Desktop\\автобрея\\udpipe-1.2.0-bin\\bin-win64\\udpipe --input horizontal --output conllu \\\n",
    "--tokenize --tag --parse \\\n",
    "C:\\Users\\Sony\\Desktop\\автобрея\\russian-syntagrus-ud-2.4-190531.udpipe \\\n",
    "< corpus.txt > corpus.conllu"
   ]
  },
  {
   "cell_type": "code",
   "execution_count": 2,
   "metadata": {
    "collapsed": true
   },
   "outputs": [],
   "source": [
    "from nltk.parse import DependencyGraph"
   ]
  },
  {
   "cell_type": "code",
   "execution_count": 3,
   "metadata": {
    "collapsed": true
   },
   "outputs": [],
   "source": [
    "trees = []\n",
    "\n",
    "with open('corpus.conllu', encoding='utf-8') as f:\n",
    "    parsed_sents = f.read().split('\\n\\n')\n",
    "\n",
    "    for sent in parsed_sents:\n",
    "        tree = [line for line in sent.split('\\n') if line and line[0] != '#']\n",
    "        trees.append('\\n'.join(tree))"
   ]
  },
  {
   "cell_type": "code",
   "execution_count": 19,
   "metadata": {},
   "outputs": [
    {
     "data": {
      "text/plain": [
       "6482"
      ]
     },
     "execution_count": 19,
     "metadata": {},
     "output_type": "execute_result"
    }
   ],
   "source": [
    "len(trees)"
   ]
  },
  {
   "cell_type": "code",
   "execution_count": 14,
   "metadata": {},
   "outputs": [],
   "source": [
    "verb_count = {}\n",
    "for t in trees:\n",
    "    try:\n",
    "        g = DependencyGraph(t, top_relation_label='root')\n",
    "    except:\n",
    "        continue\n",
    "    for n in g.nodes:\n",
    "        if g.nodes[n]['ctag'] == 'VERB':\n",
    "            if g.nodes[n]['lemma'] in verb_count:\n",
    "                verb_count[g.nodes[n]['lemma']] += 1\n",
    "            else:\n",
    "                verb_count[g.nodes[n]['lemma']] = 1"
   ]
  },
  {
   "cell_type": "code",
   "execution_count": 18,
   "metadata": {},
   "outputs": [
    {
     "name": "stdout",
     "output_type": "stream",
     "text": [
      "заявить 258\n",
      "подать 274\n",
      "просить 143\n",
      "признать 343\n",
      "стать 213\n",
      "сообщить 216\n",
      "обратиться 139\n",
      "отказаться 117\n",
      "рассматривать 99\n",
      "рассказать 54\n",
      "рассмотреть 90\n",
      "мочь 349\n",
      "начаться 74\n",
      "обвинить 461\n",
      "решить 86\n",
      "пытаться 89\n",
      "использовать 56\n",
      "напомнить 97\n",
      "получить 125\n",
      "передать 68\n",
      "направить 105\n",
      "удаться 61\n",
      "сказать 98\n",
      "иметь 94\n",
      "делать 77\n",
      "обжаловать 102\n",
      "отказать 59\n",
      "говорить 139\n",
      "счесть 55\n",
      "быть 136\n",
      "оставить 61\n",
      "дать 70\n",
      "удовлетворить 173\n",
      "вынести 152\n",
      "требовать 172\n",
      "являться 113\n",
      "обвинять 119\n",
      "принять 151\n",
      "выплатить 59\n",
      "назначить 63\n",
      "постановить 54\n",
      "обязать 58\n",
      "принадлежать 54\n",
      "подтвердить 91\n",
      "находиться 117\n",
      "арестовывать 82\n",
      "доказать 56\n",
      "пояснить 58\n",
      "предъявить 97\n",
      "согласиться 62\n",
      "взыскать 62\n",
      "отклонить 69\n",
      "провести 63\n",
      "приговорить 122\n",
      "запретить 55\n",
      "считать 152\n",
      "оспаривать 54\n",
      "нет 68\n",
      "утверждать 71\n",
      "пройти 50\n",
      "связать 56\n",
      "оспорить 68\n",
      "объявить 72\n",
      "оказаться 62\n",
      "отменить 83\n"
     ]
    }
   ],
   "source": [
    "good_verbs = []\n",
    "for verb in verb_count:\n",
    "    if verb_count[verb] >= 50:\n",
    "        print(verb, verb_count[verb])\n",
    "        good_verbs.append(verb)"
   ]
  },
  {
   "cell_type": "code",
   "execution_count": 26,
   "metadata": {},
   "outputs": [],
   "source": [
    "verb_phrase = []\n",
    "for t in trees:\n",
    "    try:\n",
    "        g = DependencyGraph(t, top_relation_label='root')\n",
    "    except:\n",
    "        continue\n",
    "    for n in g.nodes:\n",
    "        if g.nodes[n]['lemma'] in good_verbs and n < len(g.nodes) - 1 and n != 0:\n",
    "            if g.nodes[n+1]['feats'] and 'Case=Acc' in g.nodes[n+1]['feats'] and g.nodes[n+1]['ctag'] == 'NOUN':\n",
    "                verb_phrase.append([g.nodes[n]['lemma'], g.nodes[n+1]['word']])\n",
    "            elif g.nodes[n-1]['feats'] and 'Case=Acc' in g.nodes[n-1]['feats'] and g.nodes[n-1]['ctag'] == 'NOUN':\n",
    "                verb_phrase.append([g.nodes[n]['lemma'], g.nodes[n-1]['word']])"
   ]
  },
  {
   "cell_type": "code",
   "execution_count": 28,
   "metadata": {},
   "outputs": [
    {
     "data": {
      "text/plain": [
       "[['рассмотреть', 'вопрос'],\n",
       " ['начаться', 'понедельник'],\n",
       " ['получить', 'сроки'],\n",
       " ['обвинить', 'олигарха'],\n",
       " ['просить', 'суд'],\n",
       " ['рассматривать', 'ходатайство'],\n",
       " ['иметь', 'вид'],\n",
       " ['дать', 'согласие'],\n",
       " ['признать', 'сделку'],\n",
       " ['обвинить', 'господина'],\n",
       " ['удовлетворить', 'жалобу'],\n",
       " ['вынести', 'постановление'],\n",
       " ['мочь', 'сроки'],\n",
       " ['просить', 'суд'],\n",
       " ['признать', 'сделку']]"
      ]
     },
     "execution_count": 28,
     "metadata": {},
     "output_type": "execute_result"
    }
   ],
   "source": [
    "verb_phrase[:15]"
   ]
  },
  {
   "cell_type": "code",
   "execution_count": 29,
   "metadata": {},
   "outputs": [
    {
     "data": {
      "text/plain": [
       "1346"
      ]
     },
     "execution_count": 29,
     "metadata": {},
     "output_type": "execute_result"
    }
   ],
   "source": [
    "len(verb_phrase)"
   ]
  },
  {
   "cell_type": "markdown",
   "metadata": {
    "collapsed": true
   },
   "source": [
    "Оценим полученные словосочетания метриками"
   ]
  },
  {
   "cell_type": "code",
   "execution_count": 36,
   "metadata": {},
   "outputs": [],
   "source": [
    "import nltk\n",
    "from nltk.collocations import *\n",
    "\n",
    "bigram_measures = nltk.collocations.BigramAssocMeasures()\n",
    "finder = BigramCollocationFinder.from_documents(verb_phrase)"
   ]
  },
  {
   "cell_type": "code",
   "execution_count": 37,
   "metadata": {},
   "outputs": [
    {
     "data": {
      "text/plain": [
       "[('нет', 'соглашение'),\n",
       " ('связать', 'подзащитного'),\n",
       " ('говорить', 'друга'),\n",
       " ('пояснить', 'суть'),\n",
       " ('назначить', 'наказание'),\n",
       " ('постановить', 'присяжные'),\n",
       " ('находиться', 'долг'),\n",
       " ('начаться', 'очередь'),\n",
       " ('пояснить', 'адвокат'),\n",
       " ('принадлежать', 'имя'),\n",
       " ('принадлежать', 'танкеры'),\n",
       " ('принадлежать', 'экс-премьеру'),\n",
       " ('отказать', 'сети'),\n",
       " ('объявить', 'голодовку'),\n",
       " ('сообщить', 'сведения')]"
      ]
     },
     "execution_count": 37,
     "metadata": {},
     "output_type": "execute_result"
    }
   ],
   "source": [
    "pmi = finder.nbest(bigram_measures.pmi, 100)\n",
    "pmi[:15]"
   ]
  },
  {
   "cell_type": "code",
   "execution_count": 39,
   "metadata": {},
   "outputs": [
    {
     "data": {
      "text/plain": [
       "[('пройти', 'прения'),\n",
       " ('говорить', 'друга'),\n",
       " ('заявить', 'отвод'),\n",
       " ('пояснить', 'суть'),\n",
       " ('просить', 'суд'),\n",
       " ('сообщить', 'ответ'),\n",
       " ('делать', 'вывод'),\n",
       " ('иметь', 'право'),\n",
       " ('назначить', 'наказание'),\n",
       " ('объявить', 'перерыв'),\n",
       " ('постановить', 'присяжные'),\n",
       " ('пояснить', 'адвокат'),\n",
       " ('находиться', 'время'),\n",
       " ('подать', 'иск'),\n",
       " ('доказать', 'невиновность')]"
      ]
     },
     "execution_count": 39,
     "metadata": {},
     "output_type": "execute_result"
    }
   ],
   "source": [
    "scores = finder.score_ngrams(bigram_measures.dice)\n",
    "dice = sorted([x for x in scores if x[1] != 1.0], key=lambda x: x[1], reverse=True)[:100]\n",
    "dice = [x[0] for x in dice]\n",
    "dice[:15]"
   ]
  },
  {
   "cell_type": "code",
   "execution_count": 38,
   "metadata": {},
   "outputs": [
    {
     "data": {
      "text/plain": [
       "[('просить', 'суд'),\n",
       " ('подать', 'иск'),\n",
       " ('принять', 'решение'),\n",
       " ('удовлетворить', 'иск'),\n",
       " ('обжаловать', 'решение'),\n",
       " ('удовлетворить', 'ходатайство'),\n",
       " ('вынести', 'решение'),\n",
       " ('иметь', 'право'),\n",
       " ('пройти', 'прения'),\n",
       " ('вынести', 'приговор'),\n",
       " ('обвинить', 'компанию'),\n",
       " ('подать', 'апелляцию'),\n",
       " ('делать', 'вывод'),\n",
       " ('признать', 'правоту'),\n",
       " ('рассмотреть', 'жалобу')]"
      ]
     },
     "execution_count": 38,
     "metadata": {},
     "output_type": "execute_result"
    }
   ],
   "source": [
    "logl = finder.nbest(bigram_measures.likelihood_ratio, 100)\n",
    "logl[:15]"
   ]
  },
  {
   "cell_type": "code",
   "execution_count": 72,
   "metadata": {},
   "outputs": [
    {
     "name": "stdout",
     "output_type": "stream",
     "text": [
      "18\n"
     ]
    },
    {
     "data": {
      "text/plain": [
       "{('арестовывать', 'имущество'),\n",
       " ('арестовывать', 'счета'),\n",
       " ('взыскать', 'деньги'),\n",
       " ('говорить', 'друга'),\n",
       " ('делать', 'вывод'),\n",
       " ('доказать', 'невиновность'),\n",
       " ('запретить', 'деятельность'),\n",
       " ('заявить', 'отвод'),\n",
       " ('мочь', 'список'),\n",
       " ('находиться', 'время'),\n",
       " ('объявить', 'перерыв'),\n",
       " ('объявить', 'предпринимателя'),\n",
       " ('передать', 'приказ'),\n",
       " ('провести', 'обыски'),\n",
       " ('пройти', 'прения'),\n",
       " ('решить', 'проблему'),\n",
       " ('сообщить', 'ответ'),\n",
       " ('счесть', 'доводы')}"
      ]
     },
     "execution_count": 72,
     "metadata": {},
     "output_type": "execute_result"
    }
   ],
   "source": [
    "## получаем пересечение трех метрик\n",
    "intersect = set(pmi) & set(dice) & set(logl)\n",
    "print(len(intersect))\n",
    "intersect"
   ]
  },
  {
   "cell_type": "markdown",
   "metadata": {},
   "source": [
    "Теперь пересечем со словарем гл. сочетаемости"
   ]
  },
  {
   "cell_type": "code",
   "execution_count": 46,
   "metadata": {
    "collapsed": true
   },
   "outputs": [],
   "source": [
    "with open(\"verb_coll.txt\", \"r\", encoding='utf-8') as d:\n",
    "    lines = d.readlines()"
   ]
  },
  {
   "cell_type": "code",
   "execution_count": 47,
   "metadata": {},
   "outputs": [
    {
     "data": {
      "text/plain": [
       "['аборт\\tbase=действие mood=объект order=NV\\tаборт делать\\n',\n",
       " 'аборт\\tbase=действие mood=объект order=VN\\tделать аборт\\n',\n",
       " 'аборт\\tbase=действие mood=объект order=VN\\tсделать аборт\\n',\n",
       " 'авария\\tbase=существование/создание mood=субъект semclass=факт order=NV\\tавария произошла\\n',\n",
       " 'авария\\tbase=существование/создание mood=субъект semclass=факт order=NV\\tавария случилась\\n',\n",
       " 'авария\\tbase=действие mood=объект order=VN\\tпотерпеть аварию\\n',\n",
       " 'авария\\tbase=существование/создание mood=субъект semclass=факт order=VN\\tпроизошла авария\\n',\n",
       " 'авария\\tbase=существование/создание mood=субъект semclass=факт order=VN\\tслучилась авария\\n',\n",
       " 'авторитет\\tbase=обладание phase=начало order=VN\\tзавоевать авторитет\\n',\n",
       " 'авторитет\\tsemclass=содействие subclass=вред order=VN\\tподорвать авторитет\\n']"
      ]
     },
     "execution_count": 47,
     "metadata": {},
     "output_type": "execute_result"
    }
   ],
   "source": [
    "lines[:10]"
   ]
  },
  {
   "cell_type": "code",
   "execution_count": 73,
   "metadata": {},
   "outputs": [
    {
     "data": {
      "text/plain": [
       "[('аборт', 'делать'),\n",
       " ('делать', 'аборт'),\n",
       " ('сделать', 'аборт'),\n",
       " ('потерпеть', 'аварию'),\n",
       " ('завоевать', 'авторитет'),\n",
       " ('подорвать', 'авторитет'),\n",
       " ('подорвать', 'авторитет'),\n",
       " ('половой', 'акт'),\n",
       " ('половой', 'акт'),\n",
       " ('половой', 'акт')]"
      ]
     },
     "execution_count": 73,
     "metadata": {},
     "output_type": "execute_result"
    }
   ],
   "source": [
    "dict_coll = []\n",
    "for line in lines:\n",
    "    clean_line = line.strip('\\t').strip('\\n')\n",
    "    if len(clean_line.split()) == 6:\n",
    "        dict_coll.append((clean_line.split()[4], clean_line.split()[5]))\n",
    "        \n",
    "dict_coll[:10] ## попадают лишние штуки, ну ладно..."
   ]
  },
  {
   "cell_type": "code",
   "execution_count": 74,
   "metadata": {},
   "outputs": [
    {
     "data": {
      "text/plain": [
       "[('делать', 'аборт'),\n",
       " ('аборт', 'делать'),\n",
       " ('аборт', 'сделать'),\n",
       " ('аварию', 'потерпеть'),\n",
       " ('авторитет', 'завоевать'),\n",
       " ('авторитет', 'подорвать'),\n",
       " ('авторитет', 'подорвать'),\n",
       " ('акт', 'половой'),\n",
       " ('акт', 'половой'),\n",
       " ('акт', 'половой')]"
      ]
     },
     "execution_count": 74,
     "metadata": {},
     "output_type": "execute_result"
    }
   ],
   "source": [
    "dict_coll_rev = []\n",
    "for line in lines:\n",
    "    clean_line = line.strip('\\t').strip('\\n')\n",
    "    if len(clean_line.split()) == 6:\n",
    "        dict_coll_rev.append((clean_line.split()[5], clean_line.split()[4]))\n",
    "        \n",
    "dict_coll_rev[:10]"
   ]
  },
  {
   "cell_type": "code",
   "execution_count": 69,
   "metadata": {},
   "outputs": [
    {
     "data": {
      "text/plain": [
       "{('объявить', 'перерыв'), ('решить', 'проблему')}"
      ]
     },
     "execution_count": 69,
     "metadata": {},
     "output_type": "execute_result"
    }
   ],
   "source": [
    "## получаем пересечение со словарем гл. сочетаемости\n",
    "new_intersect = intersect & set(dict_coll_rev) | intersect & set(dict_coll)\n",
    "new_intersect"
   ]
  },
  {
   "cell_type": "markdown",
   "metadata": {},
   "source": [
    "Как-то уж совсем мало получилось... Но выглядят они нормально. \n",
    "Из тех 18-и словосочетаний, я бы добавила к получившимся коллокациям словосочетания: делать вывод, провести обыск(и), передать приказ, доказать невиновность, сообщить ответ. Эти словосочетания являются устойчивыми выражениями (нельзя сказать \"готовить вывод\" вместо \"делать\", \"сделать обыск\" и т.д.)"
   ]
  },
  {
   "cell_type": "code",
   "execution_count": 79,
   "metadata": {
    "collapsed": true
   },
   "outputs": [],
   "source": [
    "my_set = set()\n",
    "string = 'делать вывод, провести обыск, передать приказ, доказать невиновность, сообщить ответ'\n",
    "for coll in string.split(','):\n",
    "    my_set.add(tuple(coll.split()))"
   ]
  },
  {
   "cell_type": "code",
   "execution_count": 80,
   "metadata": {},
   "outputs": [
    {
     "data": {
      "text/plain": [
       "{('делать', 'вывод'),\n",
       " ('доказать', 'невиновность'),\n",
       " ('передать', 'приказ'),\n",
       " ('провести', 'обыск'),\n",
       " ('сообщить', 'ответ')}"
      ]
     },
     "execution_count": 80,
     "metadata": {},
     "output_type": "execute_result"
    }
   ],
   "source": [
    "my_set"
   ]
  },
  {
   "cell_type": "code",
   "execution_count": 81,
   "metadata": {
    "collapsed": true
   },
   "outputs": [],
   "source": [
    "new_intersect = new_intersect | my_set"
   ]
  },
  {
   "cell_type": "code",
   "execution_count": 82,
   "metadata": {},
   "outputs": [
    {
     "data": {
      "text/plain": [
       "{('делать', 'вывод'),\n",
       " ('доказать', 'невиновность'),\n",
       " ('объявить', 'перерыв'),\n",
       " ('передать', 'приказ'),\n",
       " ('провести', 'обыск'),\n",
       " ('решить', 'проблему'),\n",
       " ('сообщить', 'ответ')}"
      ]
     },
     "execution_count": 82,
     "metadata": {},
     "output_type": "execute_result"
    }
   ],
   "source": [
    "new_intersect"
   ]
  },
  {
   "cell_type": "code",
   "execution_count": 88,
   "metadata": {},
   "outputs": [],
   "source": [
    "## распределила на основе собственного мироощущения, не очень понятно, по каким критериям это нужно было делать\n",
    "collocations = [['провести', 'обыск'], ['объявить', 'перерыв'], ['передать', 'приказ'], ['сообщить', 'ответ'],\n",
    "               ['делать', 'вывод'], ['доказать', 'невиновность'], ['решить', 'проблему']]"
   ]
  },
  {
   "cell_type": "code",
   "execution_count": 89,
   "metadata": {},
   "outputs": [
    {
     "data": {
      "text/plain": [
       "[['провести', 'обыск'],\n",
       " ['объявить', 'перерыв'],\n",
       " ['передать', 'приказ'],\n",
       " ['сообщить', 'ответ'],\n",
       " ['делать', 'вывод'],\n",
       " ['доказать', 'невиновность'],\n",
       " ['решить', 'проблему']]"
      ]
     },
     "execution_count": 89,
     "metadata": {},
     "output_type": "execute_result"
    }
   ],
   "source": [
    "collocations"
   ]
  },
  {
   "cell_type": "code",
   "execution_count": 90,
   "metadata": {},
   "outputs": [
    {
     "name": "stderr",
     "output_type": "stream",
     "text": [
      "C:\\Users\\Sony\\Anaconda3\\lib\\site-packages\\scipy\\stats\\stats.py:253: RuntimeWarning: The input array could not be properly checked for nan values. nan values will be ignored.\n",
      "  \"values. nan values will be ignored.\", RuntimeWarning)\n"
     ]
    },
    {
     "data": {
      "text/plain": [
       "SpearmanrResult(correlation=0.6071428571428572, pvalue=0.1482311614811614)"
      ]
     },
     "execution_count": 90,
     "metadata": {},
     "output_type": "execute_result"
    }
   ],
   "source": [
    "from scipy import stats\n",
    "\n",
    "stats.spearmanr(collocations)"
   ]
  },
  {
   "cell_type": "code",
   "execution_count": 96,
   "metadata": {},
   "outputs": [
    {
     "name": "stdout",
     "output_type": "stream",
     "text": [
      "SpearmanrResult(correlation=0.6071428571428572, pvalue=0.1482311614811614)\n"
     ]
    },
    {
     "name": "stderr",
     "output_type": "stream",
     "text": [
      "C:\\Users\\Sony\\Anaconda3\\lib\\site-packages\\scipy\\stats\\stats.py:253: RuntimeWarning: The input array could not be properly checked for nan values. nan values will be ignored.\n",
      "  \"values. nan values will be ignored.\", RuntimeWarning)\n"
     ]
    }
   ],
   "source": [
    "finder2 = BigramCollocationFinder.from_documents(collocations)\n",
    "pmi = finder2.nbest(bigram_measures.pmi, 7)\n",
    "print(stats.spearmanr(pmi))"
   ]
  },
  {
   "cell_type": "code",
   "execution_count": 97,
   "metadata": {},
   "outputs": [
    {
     "name": "stdout",
     "output_type": "stream",
     "text": [
      "SpearmanrResult(correlation=0.6071428571428572, pvalue=0.1482311614811614)\n"
     ]
    },
    {
     "name": "stderr",
     "output_type": "stream",
     "text": [
      "C:\\Users\\Sony\\Anaconda3\\lib\\site-packages\\scipy\\stats\\stats.py:253: RuntimeWarning: The input array could not be properly checked for nan values. nan values will be ignored.\n",
      "  \"values. nan values will be ignored.\", RuntimeWarning)\n"
     ]
    }
   ],
   "source": [
    "logl = finder2.nbest(bigram_measures.likelihood_ratio, 7)\n",
    "print(stats.spearmanr(logl))"
   ]
  },
  {
   "cell_type": "code",
   "execution_count": 98,
   "metadata": {},
   "outputs": [
    {
     "name": "stdout",
     "output_type": "stream",
     "text": [
      "SpearmanrResult(correlation=0.6071428571428572, pvalue=0.1482311614811614)\n"
     ]
    },
    {
     "name": "stderr",
     "output_type": "stream",
     "text": [
      "C:\\Users\\Sony\\Anaconda3\\lib\\site-packages\\scipy\\stats\\stats.py:253: RuntimeWarning: The input array could not be properly checked for nan values. nan values will be ignored.\n",
      "  \"values. nan values will be ignored.\", RuntimeWarning)\n"
     ]
    }
   ],
   "source": [
    "scores = finder2.score_ngrams(bigram_measures.dice)\n",
    "dice = [x[0] for x in scores]\n",
    "print(stats.spearmanr(dice))"
   ]
  },
  {
   "cell_type": "markdown",
   "metadata": {},
   "source": [
    "Все метрики сработали одинаково"
   ]
  }
 ],
 "metadata": {
  "kernelspec": {
   "display_name": "Python 3",
   "language": "python",
   "name": "python3"
  },
  "language_info": {
   "codemirror_mode": {
    "name": "ipython",
    "version": 3
   },
   "file_extension": ".py",
   "mimetype": "text/x-python",
   "name": "python",
   "nbconvert_exporter": "python",
   "pygments_lexer": "ipython3",
   "version": "3.6.1"
  }
 },
 "nbformat": 4,
 "nbformat_minor": 2
}
