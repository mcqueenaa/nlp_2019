{
  "nbformat": 4,
  "nbformat_minor": 0,
  "metadata": {
    "colab": {
      "name": "hw_3.ipynb",
      "provenance": [],
      "collapsed_sections": []
    },
    "kernelspec": {
      "name": "python3",
      "display_name": "Python 3"
    }
  },
  "cells": [
    {
      "cell_type": "markdown",
      "metadata": {
        "id": "1T0jdKl1E1h0",
        "colab_type": "text"
      },
      "source": [
        "Лексема - *острый*. \n",
        "\n",
        "Значения из словаря МАС:\n",
        "1. (1) Имеющий хорошо колющий конец или хорошо режущий край; противоп. тупой.\n",
        "2. (6) С большим количеством соли, пряностей, специй (о пище).\n",
        "3. (7) Очень сильный, ясно, отчетливо ощущаемый. \n",
        "\n",
        "Диагностические слова: \n",
        "1. лезвие, нож, зуб, игла, точить\n",
        "2. перец, блюдо, соус, горчица\n",
        "3. боль, желание, радость, жалость\n",
        "\n",
        "Скачала 3 датасета с диагн. словами из НКРЯ"
      ]
    },
    {
      "cell_type": "code",
      "metadata": {
        "id": "gXIYaXwHDO7o",
        "colab_type": "code",
        "colab": {}
      },
      "source": [
        "!pip install git+https://github.com/lopuhin/python-adagram.git"
      ],
      "execution_count": 0,
      "outputs": []
    },
    {
      "cell_type": "code",
      "metadata": {
        "id": "YfyAwVgBaWcV",
        "colab_type": "code",
        "colab": {}
      },
      "source": [
        "!wget https://s3.amazonaws.com/kostia.lopuhin/all.a010.p10.d300.w5.m100.nonorm.slim.joblib -d adagram.joblib "
      ],
      "execution_count": 0,
      "outputs": []
    },
    {
      "cell_type": "code",
      "metadata": {
        "id": "viAzBdxpaZoW",
        "colab_type": "code",
        "colab": {}
      },
      "source": [
        "!pip install pymorphy2"
      ],
      "execution_count": 0,
      "outputs": []
    },
    {
      "cell_type": "code",
      "metadata": {
        "id": "IdabZXs3ab-h",
        "colab_type": "code",
        "colab": {}
      },
      "source": [
        "!pip install pymystem3==0.1.10"
      ],
      "execution_count": 0,
      "outputs": []
    },
    {
      "cell_type": "code",
      "metadata": {
        "id": "ld-AJYYbadlj",
        "colab_type": "code",
        "colab": {}
      },
      "source": [
        "!pip install nltk"
      ],
      "execution_count": 0,
      "outputs": []
    },
    {
      "cell_type": "code",
      "metadata": {
        "id": "Wg95uu4tafWT",
        "colab_type": "code",
        "outputId": "9024be1e-d8d0-4049-f3cc-f2004f25cea2",
        "colab": {
          "base_uri": "https://localhost:8080/",
          "height": 69
        }
      },
      "source": [
        "import nltk\n",
        "from nltk.corpus import stopwords\n",
        "nltk.download(\"stopwords\")"
      ],
      "execution_count": 87,
      "outputs": [
        {
          "output_type": "stream",
          "text": [
            "[nltk_data] Downloading package stopwords to /root/nltk_data...\n",
            "[nltk_data]   Package stopwords is already up-to-date!\n"
          ],
          "name": "stdout"
        },
        {
          "output_type": "execute_result",
          "data": {
            "text/plain": [
              "True"
            ]
          },
          "metadata": {
            "tags": []
          },
          "execution_count": 87
        }
      ]
    },
    {
      "cell_type": "code",
      "metadata": {
        "id": "Wqn-9LIAahAA",
        "colab_type": "code",
        "colab": {}
      },
      "source": [
        "import adagram\n",
        "from allennlp.commands.elmo import ElmoEmbedder\n",
        "import pandas as pd\n",
        "from lxml import html\n",
        "from nltk.tokenize import RegexpTokenizer\n",
        "from pymorphy2 import MorphAnalyzer\n",
        "from pymystem3 import Mystem\n",
        "from tqdm import tqdm\n",
        "from sklearn.metrics import adjusted_rand_score\n",
        "from sklearn.decomposition import PCA\n",
        "from sklearn.cluster import *\n",
        "from collections import Counter\n",
        "import numpy as np\n",
        "from matplotlib import pyplot as plt\n",
        "%matplotlib inline\n",
        "import warnings\n",
        "warnings.filterwarnings('ignore')\n",
        "\n",
        "\n",
        "morph = MorphAnalyzer()\n",
        "token = RegexpTokenizer('\\w+')\n",
        "stops = set(stopwords.words('russian'))\n",
        "\n",
        "def normalize_pm(text):\n",
        "    words = [morph.parse(word)[0].normal_form for word in tokenize(text) if word]\n",
        "    return words\n",
        "\n",
        "def tokenize(text):\n",
        "    return token.tokenize(text)"
      ],
      "execution_count": 0,
      "outputs": []
    },
    {
      "cell_type": "code",
      "metadata": {
        "id": "YL6Wl4M7aoyN",
        "colab_type": "code",
        "colab": {}
      },
      "source": [
        "vm = adagram.VectorModel.load('all.a010.p10.d300.w5.m100.nonorm.slim.joblib')"
      ],
      "execution_count": 0,
      "outputs": []
    },
    {
      "cell_type": "code",
      "metadata": {
        "id": "ImrOwIDgcx7f",
        "colab_type": "code",
        "colab": {}
      },
      "source": [
        "meaning_1 = pd.read_csv(\"1.csv\", sep=\";\", error_bad_lines=False)\n",
        "meaning_2 = pd.read_csv(\"2.csv\", sep=\";\", error_bad_lines=False)\n",
        "meaning_3 = pd.read_csv(\"3.csv\", sep=\";\", error_bad_lines=False)"
      ],
      "execution_count": 0,
      "outputs": []
    },
    {
      "cell_type": "code",
      "metadata": {
        "id": "ojh7ukKyc9zu",
        "colab_type": "code",
        "colab": {
          "base_uri": "https://localhost:8080/",
          "height": 586
        },
        "outputId": "672246b5-4a1b-47c2-8b99-4ad097d649ee"
      },
      "source": [
        "meaning_1.head(5)"
      ],
      "execution_count": 32,
      "outputs": [
        {
          "output_type": "execute_result",
          "data": {
            "text/html": [
              "<div>\n",
              "<style scoped>\n",
              "    .dataframe tbody tr th:only-of-type {\n",
              "        vertical-align: middle;\n",
              "    }\n",
              "\n",
              "    .dataframe tbody tr th {\n",
              "        vertical-align: top;\n",
              "    }\n",
              "\n",
              "    .dataframe thead th {\n",
              "        text-align: right;\n",
              "    }\n",
              "</style>\n",
              "<table border=\"1\" class=\"dataframe\">\n",
              "  <thead>\n",
              "    <tr style=\"text-align: right;\">\n",
              "      <th></th>\n",
              "      <th>Reversed left context</th>\n",
              "      <th>Reversed center</th>\n",
              "      <th>Left context</th>\n",
              "      <th>Center</th>\n",
              "      <th>Punct</th>\n",
              "      <th>Right context</th>\n",
              "      <th>Title</th>\n",
              "      <th>Author</th>\n",
              "      <th>Birthday</th>\n",
              "      <th>Header</th>\n",
              "      <th>Created</th>\n",
              "      <th>Sphere</th>\n",
              "      <th>Type</th>\n",
              "      <th>Topic</th>\n",
              "      <th>Publication</th>\n",
              "      <th>Publ_year</th>\n",
              "      <th>Medium</th>\n",
              "      <th>Ambiguity</th>\n",
              "      <th>Full context</th>\n",
              "    </tr>\n",
              "  </thead>\n",
              "  <tbody>\n",
              "    <tr>\n",
              "      <th>0</th>\n",
              "      <td>етинкторп ,вотог ьсуг отч ,ясьтидебу</td>\n",
              "      <td>мыртсо</td>\n",
              "      <td>убедиться, что гусь готов, проткните</td>\n",
              "      <td>острым</td>\n",
              "      <td></td>\n",
              "      <td>ножом бедро.</td>\n",
              "      <td>Рецепты национальных кухонь: Скандинавская кух...</td>\n",
              "      <td>NaN</td>\n",
              "      <td>NaN</td>\n",
              "      <td>Рецепты национальных кухонь: Скандинавская кухня</td>\n",
              "      <td>2000-2005</td>\n",
              "      <td>бытовая, нехудожественная, производственно-тех...</td>\n",
              "      <td>рецепт</td>\n",
              "      <td>дом и домашнее хозяйство</td>\n",
              "      <td>NaN</td>\n",
              "      <td>NaN</td>\n",
              "      <td>электронный текст</td>\n",
              "      <td>омонимия снята</td>\n",
              "      <td>Для того, чтобы убедиться, что гусь готов, про...</td>\n",
              "    </tr>\n",
              "    <tr>\n",
              "      <th>1</th>\n",
              "      <td>ьнечо ,оннелдем ьтазер одан ёе</td>\n",
              "      <td>мыртсо</td>\n",
              "      <td>её надо резать медленно, очень</td>\n",
              "      <td>острым</td>\n",
              "      <td></td>\n",
              "      <td>лезвием, которое следует постоянно оправлять</td>\n",
              "      <td>Николай Щербатов-Коломин. Березовое чудо // «Н...</td>\n",
              "      <td>Николай Щербатов-Коломин</td>\n",
              "      <td>NaN</td>\n",
              "      <td>Березовое чудо</td>\n",
              "      <td>2004</td>\n",
              "      <td>нехудожественная, учебно-научная</td>\n",
              "      <td>статья</td>\n",
              "      <td>искусство и культура</td>\n",
              "      <td>«Народное творчество»</td>\n",
              "      <td>2004</td>\n",
              "      <td>журнал</td>\n",
              "      <td>омонимия снята</td>\n",
              "      <td>Если в каком-то месте вам попадается тонкая бе...</td>\n",
              "    </tr>\n",
              "    <tr>\n",
              "      <th>2</th>\n",
              "      <td>йошьлоб и ― иворк в</td>\n",
              "      <td>йыртсо</td>\n",
              "      <td>в крови ― и большой</td>\n",
              "      <td>острый</td>\n",
              "      <td></td>\n",
              "      <td>нож.</td>\n",
              "      <td>Запись LiveJournal (2004)</td>\n",
              "      <td>NaN</td>\n",
              "      <td>NaN</td>\n",
              "      <td>Запись LiveJournal</td>\n",
              "      <td>2004</td>\n",
              "      <td>нехудожественная, электронная коммуникация</td>\n",
              "      <td>блог</td>\n",
              "      <td>частная жизнь</td>\n",
              "      <td>NaN</td>\n",
              "      <td>NaN</td>\n",
              "      <td>электронный текст</td>\n",
              "      <td>омонимия снята</td>\n",
              "      <td>В руках у безумца ― портфель, в котором лежат ...</td>\n",
              "    </tr>\n",
              "    <tr>\n",
              "      <th>3</th>\n",
              "      <td>тюазерорп и укйенил тюавыдалкирп метаЗ</td>\n",
              "      <td>мыртсо</td>\n",
              "      <td>Затем прикладывают линейку и прорезают</td>\n",
              "      <td>острым</td>\n",
              "      <td></td>\n",
              "      <td>ножом уложенные внахлест оба полотнища.</td>\n",
              "      <td>Елена Волкова. Тот самый линолеум // «Биржа пл...</td>\n",
              "      <td>Елена Волкова</td>\n",
              "      <td>NaN</td>\n",
              "      <td>Тот самый линолеум</td>\n",
              "      <td>2002</td>\n",
              "      <td>нехудожественная, публицистика</td>\n",
              "      <td>статья</td>\n",
              "      <td>дом и домашнее хозяйство</td>\n",
              "      <td>«Биржа плюс свой дом» (Н. Новгород)</td>\n",
              "      <td>2002.08.12</td>\n",
              "      <td>газета</td>\n",
              "      <td>омонимия снята</td>\n",
              "      <td>Затем прикладывают линейку и прорезают острым ...</td>\n",
              "    </tr>\n",
              "    <tr>\n",
              "      <th>4</th>\n",
              "      <td>и имазалг имынмузеб с акеволеч</td>\n",
              "      <td>мыртсо</td>\n",
              "      <td>человека с безумными глазами и</td>\n",
              "      <td>острым</td>\n",
              "      <td></td>\n",
              "      <td>ножом в руках.</td>\n",
              "      <td>Григорий Горин. Иронические мемуары (1990-1998)</td>\n",
              "      <td>Григорий Горин</td>\n",
              "      <td>1940</td>\n",
              "      <td>Иронические мемуары</td>\n",
              "      <td>1990-1998</td>\n",
              "      <td>художественная</td>\n",
              "      <td>мемуары</td>\n",
              "      <td>_</td>\n",
              "      <td>NaN</td>\n",
              "      <td>NaN</td>\n",
              "      <td>книга</td>\n",
              "      <td>омонимия снята</td>\n",
              "      <td>Только тут все замечают за спиной артиста хохо...</td>\n",
              "    </tr>\n",
              "  </tbody>\n",
              "</table>\n",
              "</div>"
            ],
            "text/plain": [
              "                     Reversed left context  ...                                       Full context\n",
              "0     етинкторп ,вотог ьсуг отч ,ясьтидебу  ...  Для того, чтобы убедиться, что гусь готов, про...\n",
              "1           ьнечо ,оннелдем ьтазер одан ёе  ...  Если в каком-то месте вам попадается тонкая бе...\n",
              "2                      йошьлоб и ― иворк в  ...  В руках у безумца ― портфель, в котором лежат ...\n",
              "3   тюазерорп и укйенил тюавыдалкирп метаЗ  ...  Затем прикладывают линейку и прорезают острым ...\n",
              "4           и имазалг имынмузеб с акеволеч  ...  Только тут все замечают за спиной артиста хохо...\n",
              "\n",
              "[5 rows x 19 columns]"
            ]
          },
          "metadata": {
            "tags": []
          },
          "execution_count": 32
        }
      ]
    },
    {
      "cell_type": "code",
      "metadata": {
        "id": "tMCqzrrCdVLx",
        "colab_type": "code",
        "colab": {
          "base_uri": "https://localhost:8080/",
          "height": 638
        },
        "outputId": "b581bd7a-7906-42a4-84a5-273d5af475c9"
      },
      "source": [
        "meaning_2.head(5)"
      ],
      "execution_count": 33,
      "outputs": [
        {
          "output_type": "execute_result",
          "data": {
            "text/html": [
              "<div>\n",
              "<style scoped>\n",
              "    .dataframe tbody tr th:only-of-type {\n",
              "        vertical-align: middle;\n",
              "    }\n",
              "\n",
              "    .dataframe tbody tr th {\n",
              "        vertical-align: top;\n",
              "    }\n",
              "\n",
              "    .dataframe thead th {\n",
              "        text-align: right;\n",
              "    }\n",
              "</style>\n",
              "<table border=\"1\" class=\"dataframe\">\n",
              "  <thead>\n",
              "    <tr style=\"text-align: right;\">\n",
              "      <th></th>\n",
              "      <th>Reversed left context</th>\n",
              "      <th>Reversed center</th>\n",
              "      <th>Left context</th>\n",
              "      <th>Center</th>\n",
              "      <th>Punct</th>\n",
              "      <th>Right context</th>\n",
              "      <th>Title</th>\n",
              "      <th>Author</th>\n",
              "      <th>Birthday</th>\n",
              "      <th>Header</th>\n",
              "      <th>Created</th>\n",
              "      <th>Sphere</th>\n",
              "      <th>Type</th>\n",
              "      <th>Topic</th>\n",
              "      <th>Publication</th>\n",
              "      <th>Publ_year</th>\n",
              "      <th>Medium</th>\n",
              "      <th>Ambiguity</th>\n",
              "      <th>Full context</th>\n",
              "    </tr>\n",
              "  </thead>\n",
              "  <tbody>\n",
              "    <tr>\n",
              "      <th>0</th>\n",
              "      <td>доп кешылырк хынирук яинелвотогирп ялд</td>\n",
              "      <td>мыртсо</td>\n",
              "      <td>для приготовления куриных крылышек под</td>\n",
              "      <td>острым</td>\n",
              "      <td></td>\n",
              "      <td>соусом надо приготовить маринад.</td>\n",
              "      <td>«Даша» делится секретами -- побалуй близких вк...</td>\n",
              "      <td>NaN</td>\n",
              "      <td>NaN</td>\n",
              "      <td>«Даша» делится секретами -- побалуй близких вк...</td>\n",
              "      <td>2004</td>\n",
              "      <td>нехудожественная, публицистика</td>\n",
              "      <td>рецепт</td>\n",
              "      <td>дом и домашнее хозяйство</td>\n",
              "      <td>«Даша»</td>\n",
              "      <td>2004</td>\n",
              "      <td>журнал</td>\n",
              "      <td>омонимия снята</td>\n",
              "      <td>Сначала для приготовления куриных крылышек под...</td>\n",
              "    </tr>\n",
              "    <tr>\n",
              "      <th>1</th>\n",
              "      <td>,цереп йикдалс ,ьрибми ,осям еонриж</td>\n",
              "      <td>йыртсо</td>\n",
              "      <td>жирное мясо, имбирь, сладкий перец,</td>\n",
              "      <td>острый</td>\n",
              "      <td></td>\n",
              "      <td>перец, всяческие приправы.</td>\n",
              "      <td>Григорий Тарасевич. Фейжоада: кастрюля бразиль...</td>\n",
              "      <td>Григорий Тарасевич</td>\n",
              "      <td>NaN</td>\n",
              "      <td>Фейжоада: кастрюля бразильской истории</td>\n",
              "      <td>2014</td>\n",
              "      <td>нехудожественная, публицистика</td>\n",
              "      <td>статья</td>\n",
              "      <td>дом и домашнее хозяйство</td>\n",
              "      <td>«Русский репортер»</td>\n",
              "      <td>2014</td>\n",
              "      <td>журнал</td>\n",
              "      <td>омонимия не снята</td>\n",
              "      <td>Туда отправляем мелко нарезанными репчатый лук...</td>\n",
              "    </tr>\n",
              "    <tr>\n",
              "      <th>2</th>\n",
              "      <td>,ьного ― ещбоов уреткарах оп</td>\n",
              "      <td>йыртсо</td>\n",
              "      <td>по характеру вообще ― огонь,</td>\n",
              "      <td>острый</td>\n",
              "      <td></td>\n",
              "      <td>перец!</td>\n",
              "      <td>Дина Рубина. Русская канарейка. Блудный сын (2...</td>\n",
              "      <td>Дина Рубина</td>\n",
              "      <td>1953</td>\n",
              "      <td>Русская канарейка. Блудный сын</td>\n",
              "      <td>2014</td>\n",
              "      <td>художественная</td>\n",
              "      <td>роман</td>\n",
              "      <td>_</td>\n",
              "      <td>NaN</td>\n",
              "      <td>NaN</td>\n",
              "      <td>книга</td>\n",
              "      <td>омонимия не снята</td>\n",
              "      <td>А по характеру вообще ― огонь, острый перец!  ...</td>\n",
              "    </tr>\n",
              "    <tr>\n",
              "      <th>3</th>\n",
              "      <td>митэ к апутсод еморК</td>\n",
              "      <td>мыртсо</td>\n",
              "      <td>Кроме доступа к этим</td>\n",
              "      <td>острым</td>\n",
              "      <td></td>\n",
              "      <td>блюдам, протест не принесет ничего.</td>\n",
              "      <td>Виктор Пелевин. Бэтман Аполло (2013)</td>\n",
              "      <td>Виктор Пелевин</td>\n",
              "      <td>1962</td>\n",
              "      <td>Бэтман Аполло</td>\n",
              "      <td>2013</td>\n",
              "      <td>художественная</td>\n",
              "      <td>роман</td>\n",
              "      <td>_</td>\n",
              "      <td>NaN</td>\n",
              "      <td>NaN</td>\n",
              "      <td>книга</td>\n",
              "      <td>омонимия не снята</td>\n",
              "      <td>Кроме доступа к этим острым блюдам, протест не...</td>\n",
              "    </tr>\n",
              "    <tr>\n",
              "      <th>4</th>\n",
              "      <td>с ― енатсикаП в ,имарамьлак</td>\n",
              "      <td>мыртсо</td>\n",
              "      <td>кальмарами, в Пакистане ― с</td>\n",
              "      <td>острым</td>\n",
              "      <td></td>\n",
              "      <td>соусом карри.</td>\n",
              "      <td>Александра Дараган. «Хлеб, помидор, сыр... и ч...</td>\n",
              "      <td>Александра Дараган</td>\n",
              "      <td>NaN</td>\n",
              "      <td>«Хлеб, помидор, сыр... и что-нибудь ещё»</td>\n",
              "      <td>2012</td>\n",
              "      <td>нехудожественная, публицистика</td>\n",
              "      <td>статья</td>\n",
              "      <td>дом и домашнее хозяйство, история, производство</td>\n",
              "      <td>«Зеркало мира»</td>\n",
              "      <td>2012</td>\n",
              "      <td>журнал</td>\n",
              "      <td>омонимия не снята</td>\n",
              "      <td>В Японии, что естественно для морской страны, ...</td>\n",
              "    </tr>\n",
              "  </tbody>\n",
              "</table>\n",
              "</div>"
            ],
            "text/plain": [
              "                     Reversed left context  ...                                       Full context\n",
              "0   доп кешылырк хынирук яинелвотогирп ялд  ...  Сначала для приготовления куриных крылышек под...\n",
              "1      ,цереп йикдалс ,ьрибми ,осям еонриж  ...  Туда отправляем мелко нарезанными репчатый лук...\n",
              "2             ,ьного ― ещбоов уреткарах оп  ...  А по характеру вообще ― огонь, острый перец!  ...\n",
              "3                     митэ к апутсод еморК  ...  Кроме доступа к этим острым блюдам, протест не...\n",
              "4              с ― енатсикаП в ,имарамьлак  ...  В Японии, что естественно для морской страны, ...\n",
              "\n",
              "[5 rows x 19 columns]"
            ]
          },
          "metadata": {
            "tags": []
          },
          "execution_count": 33
        }
      ]
    },
    {
      "cell_type": "code",
      "metadata": {
        "id": "KNo5J_ABdYYR",
        "colab_type": "code",
        "colab": {
          "base_uri": "https://localhost:8080/",
          "height": 586
        },
        "outputId": "b29d01cc-b59f-409c-9144-74b96f0a7532"
      },
      "source": [
        "meaning_3.head(5)"
      ],
      "execution_count": 34,
      "outputs": [
        {
          "output_type": "execute_result",
          "data": {
            "text/html": [
              "<div>\n",
              "<style scoped>\n",
              "    .dataframe tbody tr th:only-of-type {\n",
              "        vertical-align: middle;\n",
              "    }\n",
              "\n",
              "    .dataframe tbody tr th {\n",
              "        vertical-align: top;\n",
              "    }\n",
              "\n",
              "    .dataframe thead th {\n",
              "        text-align: right;\n",
              "    }\n",
              "</style>\n",
              "<table border=\"1\" class=\"dataframe\">\n",
              "  <thead>\n",
              "    <tr style=\"text-align: right;\">\n",
              "      <th></th>\n",
              "      <th>Reversed left context</th>\n",
              "      <th>Reversed center</th>\n",
              "      <th>Left context</th>\n",
              "      <th>Center</th>\n",
              "      <th>Punct</th>\n",
              "      <th>Right context</th>\n",
              "      <th>Title</th>\n",
              "      <th>Author</th>\n",
              "      <th>Birthday</th>\n",
              "      <th>Header</th>\n",
              "      <th>Created</th>\n",
              "      <th>Sphere</th>\n",
              "      <th>Type</th>\n",
              "      <th>Topic</th>\n",
              "      <th>Publication</th>\n",
              "      <th>Publ_year</th>\n",
              "      <th>Medium</th>\n",
              "      <th>Ambiguity</th>\n",
              "      <th>Full context</th>\n",
              "    </tr>\n",
              "  </thead>\n",
              "  <tbody>\n",
              "    <tr>\n",
              "      <th>0</th>\n",
              "      <td>лавилисереп модурт мишьлоб с ежу</td>\n",
              "      <td>еортсо</td>\n",
              "      <td>уже с большим трудом пересиливал</td>\n",
              "      <td>острое</td>\n",
              "      <td></td>\n",
              "      <td>желание схватить Степашу за ворот</td>\n",
              "      <td>Андрей Волос. Недвижимость (2000) // «Новый Ми...</td>\n",
              "      <td>Андрей Волос</td>\n",
              "      <td>1955</td>\n",
              "      <td>Недвижимость</td>\n",
              "      <td>2000</td>\n",
              "      <td>художественная</td>\n",
              "      <td>роман</td>\n",
              "      <td>_</td>\n",
              "      <td>«Новый Мир»</td>\n",
              "      <td>2001</td>\n",
              "      <td>журнал</td>\n",
              "      <td>омонимия снята</td>\n",
              "      <td>Я чувствовал неприятное сердцебиение, вызванно...</td>\n",
              "    </tr>\n",
              "    <tr>\n",
              "      <th>1</th>\n",
              "      <td>и ― екчовед к юьтсогортс</td>\n",
              "      <td>мыртсо</td>\n",
              "      <td>строгостью к девочке ― и</td>\n",
              "      <td>острым</td>\n",
              "      <td></td>\n",
              "      <td>желанием Павла Алексеевича посадить дочку</td>\n",
              "      <td>Людмила Улицкая. Казус Кукоцкого [Путешествие ...</td>\n",
              "      <td>Людмила Улицкая</td>\n",
              "      <td>1943</td>\n",
              "      <td>Казус Кукоцкого [Путешествие в седьмую сторону...</td>\n",
              "      <td>2000</td>\n",
              "      <td>художественная</td>\n",
              "      <td>роман</td>\n",
              "      <td>_</td>\n",
              "      <td>«Новый Мир»</td>\n",
              "      <td>2000</td>\n",
              "      <td>журнал</td>\n",
              "      <td>омонимия снята</td>\n",
              "      <td>Странная это была несуразица между аскетически...</td>\n",
              "    </tr>\n",
              "    <tr>\n",
              "      <th>2</th>\n",
              "      <td>ьсалалед окьлот ,ьсалянем ен ьвобюл</td>\n",
              "      <td>йортсо</td>\n",
              "      <td>любовь не менялась, только делалась</td>\n",
              "      <td>острой</td>\n",
              "      <td></td>\n",
              "      <td>болью в нём, болью, которая</td>\n",
              "      <td>митрополит Антоний (Блум). О христианстве (1995)</td>\n",
              "      <td>митрополит Антоний (Блум)</td>\n",
              "      <td>1914</td>\n",
              "      <td>О христианстве</td>\n",
              "      <td>1995</td>\n",
              "      <td>нехудожественная, церковно-богословская</td>\n",
              "      <td>беседа</td>\n",
              "      <td>религия</td>\n",
              "      <td>NaN</td>\n",
              "      <td>NaN</td>\n",
              "      <td>книга</td>\n",
              "      <td>омонимия снята</td>\n",
              "      <td>Когда мы были \" хорошими\", его любовь была лик...</td>\n",
              "    </tr>\n",
              "    <tr>\n",
              "      <th>3</th>\n",
              "      <td>как ,еж кат ( етсерк</td>\n",
              "      <td>яартсо</td>\n",
              "      <td>кресте ( так же, как</td>\n",
              "      <td>острая</td>\n",
              "      <td></td>\n",
              "      <td>боль в душе и в</td>\n",
              "      <td>митрополит Антоний (Блум). О христианстве (1995)</td>\n",
              "      <td>митрополит Антоний (Блум)</td>\n",
              "      <td>1914</td>\n",
              "      <td>О христианстве</td>\n",
              "      <td>1995</td>\n",
              "      <td>нехудожественная, церковно-богословская</td>\n",
              "      <td>беседа</td>\n",
              "      <td>религия</td>\n",
              "      <td>NaN</td>\n",
              "      <td>NaN</td>\n",
              "      <td>книга</td>\n",
              "      <td>омонимия снята</td>\n",
              "      <td>И эта смерть Христова на кресте ( так же, как ...</td>\n",
              "    </tr>\n",
              "    <tr>\n",
              "      <th>4</th>\n",
              "      <td></td>\n",
              "      <td>яартсО</td>\n",
              "      <td></td>\n",
              "      <td>Острая</td>\n",
              "      <td></td>\n",
              "      <td>боль ударила как ножом.</td>\n",
              "      <td>И. Грекова. Перелом (1987)</td>\n",
              "      <td>И. Грекова</td>\n",
              "      <td>1907</td>\n",
              "      <td>Перелом</td>\n",
              "      <td>1987</td>\n",
              "      <td>художественная</td>\n",
              "      <td>повесть</td>\n",
              "      <td>_</td>\n",
              "      <td>NaN</td>\n",
              "      <td>NaN</td>\n",
              "      <td>книга</td>\n",
              "      <td>омонимия снята</td>\n",
              "      <td>Острая боль ударила как ножом. [И. Грекова. П...</td>\n",
              "    </tr>\n",
              "  </tbody>\n",
              "</table>\n",
              "</div>"
            ],
            "text/plain": [
              "                  Reversed left context  ...                                       Full context\n",
              "0      лавилисереп модурт мишьлоб с ежу  ...  Я чувствовал неприятное сердцебиение, вызванно...\n",
              "1              и ― екчовед к юьтсогортс  ...  Странная это была несуразица между аскетически...\n",
              "2   ьсалалед окьлот ,ьсалянем ен ьвобюл  ...  Когда мы были \" хорошими\", его любовь была лик...\n",
              "3                  как ,еж кат ( етсерк  ...  И эта смерть Христова на кресте ( так же, как ...\n",
              "4                                        ...   Острая боль ударила как ножом. [И. Грекова. П...\n",
              "\n",
              "[5 rows x 19 columns]"
            ]
          },
          "metadata": {
            "tags": []
          },
          "execution_count": 34
        }
      ]
    },
    {
      "cell_type": "code",
      "metadata": {
        "id": "u1eRiXSon7lI",
        "colab_type": "code",
        "colab": {
          "base_uri": "https://localhost:8080/",
          "height": 35
        },
        "outputId": "b80c6005-1c5e-47ec-da53-5df9f83182c6"
      },
      "source": [
        "len(meaning_2['Center']) # самый маленький датасет"
      ],
      "execution_count": 53,
      "outputs": [
        {
          "output_type": "execute_result",
          "data": {
            "text/plain": [
              "72"
            ]
          },
          "metadata": {
            "tags": []
          },
          "execution_count": 53
        }
      ]
    },
    {
      "cell_type": "markdown",
      "metadata": {
        "id": "OR1v5GTygZhj",
        "colab_type": "text"
      },
      "source": [
        "Адаграм распределяет значения так: для первого - 3, для второго - 0, для третьего - 4."
      ]
    },
    {
      "cell_type": "code",
      "metadata": {
        "id": "vQMBEwsQauRN",
        "colab_type": "code",
        "colab": {}
      },
      "source": [
        "all_meanings = []\n",
        "\n",
        "for i in range(len(meaning_2['Center'])): ## везде одинаковое количество\n",
        "    all_meanings.append((\" \".join([meaning_1[\"Left context\"][i].strip(), \n",
        "                                  meaning_1[\"Center\"][i].strip(), \n",
        "                                  meaning_1[\"Right context\"][i].strip()]), 3))\n",
        "    \n",
        "for i in range(len(meaning_2['Center'])):\n",
        "    all_meanings.append((\" \".join([meaning_2[\"Left context\"][i].strip(), \n",
        "                                  meaning_2[\"Center\"][i].strip(), \n",
        "                                  meaning_2[\"Right context\"][i].strip()]), 0))\n",
        "    \n",
        "for i in range(len(meaning_2['Center'])):\n",
        "    all_meanings.append((\" \".join([str(meaning_3[\"Left context\"][i]).strip(), \n",
        "                                  meaning_3[\"Center\"][i].strip(), \n",
        "                                  meaning_3[\"Right context\"][i].strip()]), 4))"
      ],
      "execution_count": 0,
      "outputs": []
    },
    {
      "cell_type": "code",
      "metadata": {
        "id": "STuvHvLonyfo",
        "colab_type": "code",
        "colab": {
          "base_uri": "https://localhost:8080/",
          "height": 35
        },
        "outputId": "1fd21091-c87a-4830-9db2-9e5970faa0f7"
      },
      "source": [
        "len(all_meanings)"
      ],
      "execution_count": 56,
      "outputs": [
        {
          "output_type": "execute_result",
          "data": {
            "text/plain": [
              "216"
            ]
          },
          "metadata": {
            "tags": []
          },
          "execution_count": 56
        }
      ]
    },
    {
      "cell_type": "code",
      "metadata": {
        "id": "WIw9PeXad0ee",
        "colab_type": "code",
        "colab": {}
      },
      "source": [
        "mystem = Mystem()\n",
        "\n",
        "def disambiguate(model, word, context):\n",
        "    word, _ = lemmatized_context(word)\n",
        "    probs = model.disambiguate(word, lemmatized_context(context))\n",
        "    return probs.argmax()\n",
        "\n",
        "\n",
        "def lemmatized_context(s):\n",
        "    return [w.lower() for w in mystem.lemmatize(\" \".join(tokenize(s)))]"
      ],
      "execution_count": 0,
      "outputs": []
    },
    {
      "cell_type": "code",
      "metadata": {
        "id": "p379Xmh6e1Sx",
        "colab_type": "code",
        "colab": {}
      },
      "source": [
        "true_values = 0\n",
        "\n",
        "for context in all_meanings:\n",
        "    if context[1] == disambiguate(vm, 'острый', context[0]):\n",
        "        true_values += 1\n",
        "\n",
        "accuracy = true_values/len(all_meanings)"
      ],
      "execution_count": 0,
      "outputs": []
    },
    {
      "cell_type": "code",
      "metadata": {
        "id": "zq-9EHwzrefM",
        "colab_type": "code",
        "colab": {
          "base_uri": "https://localhost:8080/",
          "height": 35
        },
        "outputId": "4f256468-3234-40fa-98f4-00a50acfb292"
      },
      "source": [
        "# неплохо\n",
        "accuracy"
      ],
      "execution_count": 72,
      "outputs": [
        {
          "output_type": "execute_result",
          "data": {
            "text/plain": [
              "0.8287037037037037"
            ]
          },
          "metadata": {
            "tags": []
          },
          "execution_count": 72
        }
      ]
    },
    {
      "cell_type": "markdown",
      "metadata": {
        "id": "pQGUgcoruK4P",
        "colab_type": "text"
      },
      "source": [
        "Теперь попробую для словарных толкований"
      ]
    },
    {
      "cell_type": "code",
      "metadata": {
        "id": "wJh8krjfgmyA",
        "colab_type": "code",
        "colab": {}
      },
      "source": [
        "from_dict_1 = ('Имеющий хорошо колющий конец или хорошо режущий край; противоп. тупой. Острая игла. Острая бритва. Острый нож. □ — Острые колючки рвали мою одежду. \\\n",
        "Лермонтов, Бэла. Они навязали их [крючки] на поводки из проволоки или струны, которых щуки не могли перекусить, несмотря на свои острые зубы. С. Аксаков, Детские годы Багрова-внука. \\\n",
        "Я растирал себе в кровь руки и колени о песок, об острые камни, о колючие сучки, но ничего не замечал. М. Пришвин, За волшебным колобком.', 3)\n",
        "from_dict_2 = ('С большим количеством соли, пряностей, специй (о пище). Острые блюда. Острый сыр. || Едкий, пряный (о приправах). Острый перец. Острая горчица.', 0)\n",
        "from_dict_3 = ('Очень сильный, ясно, отчетливо ощущаемый. Острое желание. Острая боль. □ Пашка взбежал на ступени, взглянул в окно, и острая, захватывающая радость вдруг овладела им. Чехов, Беглец. Острая жалость к себе наполнила ее сердце. С. Антонов, Дожди.', 4)"
      ],
      "execution_count": 0,
      "outputs": []
    },
    {
      "cell_type": "code",
      "metadata": {
        "id": "sfIeuAKVx_48",
        "colab_type": "code",
        "colab": {
          "base_uri": "https://localhost:8080/",
          "height": 52
        },
        "outputId": "227e5e77-4741-4200-d5c9-f0df2a0db3df"
      },
      "source": [
        "print('Угадал ли со значением в первом толковании?')\n",
        "from_dict_1[1] == disambiguate(vm, 'острый', from_dict_1[0])"
      ],
      "execution_count": 97,
      "outputs": [
        {
          "output_type": "stream",
          "text": [
            "Угадал ли со значением в первом толковании?\n"
          ],
          "name": "stdout"
        },
        {
          "output_type": "execute_result",
          "data": {
            "text/plain": [
              "True"
            ]
          },
          "metadata": {
            "tags": []
          },
          "execution_count": 97
        }
      ]
    },
    {
      "cell_type": "code",
      "metadata": {
        "id": "ZiReZNKG8ntM",
        "colab_type": "code",
        "colab": {
          "base_uri": "https://localhost:8080/",
          "height": 52
        },
        "outputId": "428448a3-2426-4cf0-a627-7e8fa857b39a"
      },
      "source": [
        "print('Угадал ли со значением во втором толковании?')\n",
        "from_dict_2[1] == disambiguate(vm, 'острый', from_dict_2[0])"
      ],
      "execution_count": 98,
      "outputs": [
        {
          "output_type": "stream",
          "text": [
            "Угадал ли со значением во втором толковании?\n"
          ],
          "name": "stdout"
        },
        {
          "output_type": "execute_result",
          "data": {
            "text/plain": [
              "True"
            ]
          },
          "metadata": {
            "tags": []
          },
          "execution_count": 98
        }
      ]
    },
    {
      "cell_type": "code",
      "metadata": {
        "id": "_TI-33jm8pEX",
        "colab_type": "code",
        "colab": {
          "base_uri": "https://localhost:8080/",
          "height": 52
        },
        "outputId": "ed239fdd-79cc-4347-a7b3-de934745aef7"
      },
      "source": [
        "print('Угадал ли со значением в третьем толковании?')\n",
        "from_dict_3[1] == disambiguate(vm, 'острый', from_dict_3[0])"
      ],
      "execution_count": 99,
      "outputs": [
        {
          "output_type": "stream",
          "text": [
            "Угадал ли со значением в третьем толковании?\n"
          ],
          "name": "stdout"
        },
        {
          "output_type": "execute_result",
          "data": {
            "text/plain": [
              "True"
            ]
          },
          "metadata": {
            "tags": []
          },
          "execution_count": 99
        }
      ]
    },
    {
      "cell_type": "markdown",
      "metadata": {
        "id": "Dbai3pd58tck",
        "colab_type": "text"
      },
      "source": [
        "Везде угадал"
      ]
    },
    {
      "cell_type": "code",
      "metadata": {
        "id": "HWF1LS8d8sAD",
        "colab_type": "code",
        "colab": {}
      },
      "source": [
        ""
      ],
      "execution_count": 0,
      "outputs": []
    }
  ]
}